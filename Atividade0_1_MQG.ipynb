{
  "nbformat": 4,
  "nbformat_minor": 0,
  "metadata": {
    "colab": {
      "provenance": [],
      "authorship_tag": "ABX9TyPwsL6IT7nvztOF7UpWbGaK",
      "include_colab_link": true
    },
    "kernelspec": {
      "name": "python3",
      "display_name": "Python 3"
    },
    "language_info": {
      "name": "python"
    }
  },
  "cells": [
    {
      "cell_type": "markdown",
      "metadata": {
        "id": "view-in-github",
        "colab_type": "text"
      },
      "source": [
        "<a href=\"https://colab.research.google.com/github/Marvimnas/operations-research/blob/main/Atividade0_1_MQG.ipynb\" target=\"_parent\"><img src=\"https://colab.research.google.com/assets/colab-badge.svg\" alt=\"Open In Colab\"/></a>"
      ]
    },
    {
      "cell_type": "code",
      "execution_count": null,
      "metadata": {
        "colab": {
          "base_uri": "https://localhost:8080/"
        },
        "id": "hIgYxDIcFGrg",
        "outputId": "882d884b-41d0-4c60-da08-ce5b0cfe72cc"
      },
      "outputs": [
        {
          "output_type": "stream",
          "name": "stdout",
          "text": [
            "Looking in indexes: https://pypi.org/simple, https://us-python.pkg.dev/colab-wheels/public/simple/\n",
            "Collecting pulp\n",
            "  Downloading PuLP-2.7.0-py3-none-any.whl (14.3 MB)\n",
            "\u001b[2K     \u001b[90m━━━━━━━━━━━━━━━━━━━━━━━━━━━━━━━━━━━━━━━━\u001b[0m \u001b[32m14.3/14.3 MB\u001b[0m \u001b[31m41.3 MB/s\u001b[0m eta \u001b[36m0:00:00\u001b[0m\n",
            "\u001b[?25hInstalling collected packages: pulp\n",
            "Successfully installed pulp-2.7.0\n"
          ]
        }
      ],
      "source": [
        "#instalar a biblioteca necessária\n",
        "!pip install pulp"
      ]
    },
    {
      "cell_type": "code",
      "source": [
        "#usar as funções especificas da biblioteca\n",
        "from pulp import *"
      ],
      "metadata": {
        "id": "K49pw9JtFwLt"
      },
      "execution_count": null,
      "outputs": []
    },
    {
      "cell_type": "code",
      "source": [
        "#definir o tipo de problema\n",
        "problema1 = LpProblem('Produção_Monobloco',LpMinimize)"
      ],
      "metadata": {
        "id": "c8RFAaeTGKDt"
      },
      "execution_count": null,
      "outputs": []
    },
    {
      "cell_type": "code",
      "source": [
        "#definir variáveis do problema\n",
        "x11 = LpVariable(\"x11\", lowBound = 0)\n",
        "x12 = LpVariable('x12', lowBound = 0)\n",
        "x13 = LpVariable('x13', lowBound = 0)\n",
        "x22 = LpVariable('x22', lowBound = 0)\n",
        "x23 = LpVariable('x23', lowBound = 0)\n",
        "x33 = LpVariable('x33', lowBound = 0)\n"
      ],
      "metadata": {
        "id": "3mXcLKK1HgP6"
      },
      "execution_count": null,
      "outputs": []
    },
    {
      "cell_type": "code",
      "source": [
        "#definir função objetivo\n",
        "problema1 += 3000*x11 + 3200*x12 + 3400*x13 + 3000*x22 + 3200*x23 + 3200*x33"
      ],
      "metadata": {
        "id": "Fg-PiW1kGvil"
      },
      "execution_count": null,
      "outputs": []
    },
    {
      "cell_type": "code",
      "source": [
        "#definir restrições\n",
        "problema1 += x11 + x12 + x13 <= 2500 \n",
        "problema1 += x22 + x23 <= 2500\n",
        "problema1 += x33 <= 2000\n",
        "problema1 += x11 == 1000\n",
        "problema1 += x12 + x22 == 2000\n",
        "problema1 += x13 + x23 + x33 == 3000\n"
      ],
      "metadata": {
        "id": "xhBZiXqXHZ7M"
      },
      "execution_count": null,
      "outputs": []
    },
    {
      "cell_type": "code",
      "source": [
        "#ver estrutura do problema\n",
        "problema1"
      ],
      "metadata": {
        "colab": {
          "base_uri": "https://localhost:8080/"
        },
        "id": "E5gtCSXJKnTZ",
        "outputId": "76f0bb1a-d4ce-44bc-8099-911eb728e43c"
      },
      "execution_count": null,
      "outputs": [
        {
          "output_type": "execute_result",
          "data": {
            "text/plain": [
              "Produção_Monobloco:\n",
              "MINIMIZE\n",
              "3000*x11 + 3200*x12 + 3400*x13 + 3000*x22 + 3200*x23 + 3200*x33 + 0\n",
              "SUBJECT TO\n",
              "_C1: x11 + x12 + x13 <= 2500\n",
              "\n",
              "_C2: x22 + x23 <= 2500\n",
              "\n",
              "_C3: x33 <= 2000\n",
              "\n",
              "_C4: x11 = 1000\n",
              "\n",
              "_C5: x12 + x22 = 2000\n",
              "\n",
              "_C6: x11 + x12 + x13 <= 2500\n",
              "\n",
              "_C7: x22 + x23 <= 2500\n",
              "\n",
              "_C8: x33 <= 2000\n",
              "\n",
              "_C9: x11 = 1000\n",
              "\n",
              "_C10: x12 + x22 = 2000\n",
              "\n",
              "_C11: x13 + x23 + x33 = 3000\n",
              "\n",
              "VARIABLES\n",
              "x11 Continuous\n",
              "x12 Continuous\n",
              "x13 Continuous\n",
              "x22 Continuous\n",
              "x23 Continuous\n",
              "x33 Continuous"
            ]
          },
          "metadata": {},
          "execution_count": 13
        }
      ]
    },
    {
      "cell_type": "code",
      "source": [
        "#resolver o problema\n",
        "problema1.solve()"
      ],
      "metadata": {
        "colab": {
          "base_uri": "https://localhost:8080/"
        },
        "id": "JilU8MxCKrr_",
        "outputId": "91b3f014-921d-4a6f-a822-3b1e7d003e4e"
      },
      "execution_count": null,
      "outputs": [
        {
          "output_type": "execute_result",
          "data": {
            "text/plain": [
              "1"
            ]
          },
          "metadata": {},
          "execution_count": 14
        }
      ]
    },
    {
      "cell_type": "code",
      "source": [
        "for v in problema1.variables():\n",
        "  print (v.name, \"=\",v.varValue)"
      ],
      "metadata": {
        "colab": {
          "base_uri": "https://localhost:8080/"
        },
        "id": "Dw0B-egmLCG5",
        "outputId": "b64e22d6-b3db-4de3-851f-a23d9f4ba12e"
      },
      "execution_count": null,
      "outputs": [
        {
          "output_type": "stream",
          "name": "stdout",
          "text": [
            "x11 = 1000.0\n",
            "x12 = 500.0\n",
            "x13 = 0.0\n",
            "x22 = 1500.0\n",
            "x23 = 1000.0\n",
            "x33 = 2000.0\n"
          ]
        }
      ]
    },
    {
      "cell_type": "code",
      "source": [
        "print('custo total =',value(problema1.objective))"
      ],
      "metadata": {
        "colab": {
          "base_uri": "https://localhost:8080/"
        },
        "id": "R62c627WLcJS",
        "outputId": "80f1bc29-2ed4-4bc0-a4e5-2ef03be89760"
      },
      "execution_count": null,
      "outputs": [
        {
          "output_type": "stream",
          "name": "stdout",
          "text": [
            "custo total = 18700000.0\n"
          ]
        }
      ]
    },
    {
      "cell_type": "code",
      "source": [],
      "metadata": {
        "id": "DfKTzRubLl2N"
      },
      "execution_count": null,
      "outputs": []
    }
  ]
}