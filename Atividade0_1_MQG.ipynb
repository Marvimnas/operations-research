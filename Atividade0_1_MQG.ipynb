{
  "nbformat": 4,
  "nbformat_minor": 0,
  "metadata": {
    "colab": {
      "provenance": [],
      "authorship_tag": "ABX9TyOxj8xWM5kV2pO0HLWV9wFP",
      "include_colab_link": true
    },
    "kernelspec": {
      "name": "python3",
      "display_name": "Python 3"
    },
    "language_info": {
      "name": "python"
    }
  },
  "cells": [
    {
      "cell_type": "markdown",
      "metadata": {
        "id": "view-in-github",
        "colab_type": "text"
      },
      "source": [
        "<a href=\"https://colab.research.google.com/github/Marvimnas/pesquisa-operacional_intro/blob/main/Atividade0_1_MQG.ipynb\" target=\"_parent\"><img src=\"https://colab.research.google.com/assets/colab-badge.svg\" alt=\"Open In Colab\"/></a>"
      ]
    },
    {
      "cell_type": "code",
      "execution_count": null,
      "metadata": {
        "id": "hIgYxDIcFGrg",
        "collapsed": true
      },
      "outputs": [],
      "source": [
        "#instalar a biblioteca necessária\n",
        "!pip install pulp"
      ]
    },
    {
      "cell_type": "code",
      "source": [
        "#usar as funções especificas da biblioteca\n",
        "from pulp import *"
      ],
      "metadata": {
        "id": "K49pw9JtFwLt"
      },
      "execution_count": null,
      "outputs": []
    },
    {
      "cell_type": "code",
      "source": [
        "#definir o tipo de problema\n",
        "problema1 = LpProblem('Produção_Monobloco',LpMinimize)"
      ],
      "metadata": {
        "id": "c8RFAaeTGKDt"
      },
      "execution_count": null,
      "outputs": []
    },
    {
      "cell_type": "code",
      "source": [
        "#definir variáveis do problema\n",
        "x11 = LpVariable(\"x11\", lowBound = 0)\n",
        "x12 = LpVariable('x12', lowBound = 0)\n",
        "x13 = LpVariable('x13', lowBound = 0)\n",
        "x22 = LpVariable('x22', lowBound = 0)\n",
        "x23 = LpVariable('x23', lowBound = 0)\n",
        "x33 = LpVariable('x33', lowBound = 0)"
      ],
      "metadata": {
        "id": "3mXcLKK1HgP6"
      },
      "execution_count": null,
      "outputs": []
    },
    {
      "cell_type": "code",
      "source": [
        "#definir função objetivo\n",
        "problema1 += 3000*x11 + 3200*x12 + 3400*x13 + 3000*x22 + 3200*x23 + 3200*x33"
      ],
      "metadata": {
        "id": "Fg-PiW1kGvil"
      },
      "execution_count": null,
      "outputs": []
    },
    {
      "cell_type": "code",
      "source": [
        "#definir restrições\n",
        "problema1 += x11 + x12 + x13 <= 2500\n",
        "problema1 += x22 + x23 <= 2500\n",
        "problema1 += x33 <= 2000\n",
        "problema1 += x11 == 1000\n",
        "problema1 += x12 + x22 == 2000\n",
        "problema1 += x13 + x23 + x33 == 3000\n"
      ],
      "metadata": {
        "id": "xhBZiXqXHZ7M"
      },
      "execution_count": null,
      "outputs": []
    },
    {
      "cell_type": "code",
      "source": [
        "#ver estrutura do problema\n",
        "problema1"
      ],
      "metadata": {
        "id": "E5gtCSXJKnTZ"
      },
      "execution_count": null,
      "outputs": []
    },
    {
      "cell_type": "code",
      "source": [
        "#resolver o problema\n",
        "problema1.solve()"
      ],
      "metadata": {
        "id": "JilU8MxCKrr_"
      },
      "execution_count": null,
      "outputs": []
    },
    {
      "cell_type": "code",
      "source": [
        "for v in problema1.variables():\n",
        "  print (v.name, \"=\",v.varValue)"
      ],
      "metadata": {
        "id": "Dw0B-egmLCG5"
      },
      "execution_count": null,
      "outputs": []
    },
    {
      "cell_type": "code",
      "source": [
        "print('custo total =',value(problema1.objective))"
      ],
      "metadata": {
        "id": "R62c627WLcJS"
      },
      "execution_count": null,
      "outputs": []
    }
  ]
}